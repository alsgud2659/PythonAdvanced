{
 "cells": [
  {
   "cell_type": "code",
   "execution_count": null,
   "metadata": {},
   "outputs": [],
   "source": [
    "import sys                     # 하드웨어 접근 모듈\n",
    "from PyQt5.QtWidgets import *  # 파이큐티 관련 모듈\n",
    "from PyQt5 import uic          # ui 관련 모듈\n",
    "from PyQt5.QtCore import *     # 타이머 관련 모듈\n",
    "import pybithumb\n",
    "import pykorbit\n",
    "\n",
    "form_class = uic.loadUiType(\"day04.ui\")[0]   # pyqt로 만든 ui 폼 불러오기 \n",
    "tickers = [\"BTC\",\"ETH\",\"XRP\",\"ADA\"]\n",
    "\n",
    "class MyWindow(QMainWindow, form_class):     # MyWindow 클래스 를 상속받아서 작성\n",
    "    def __init__(self):                      # 생성자로 창생성\n",
    "        super().__init__()                   # 부모의 생성자를 이용\n",
    "        self.setupUi(self)                   # Ui 창 생성\n",
    "        # self.pushButton.clicked.connect(self.btn_clicked)  # 단추 클릭시 열결되는 매서드 정의\n",
    "        timer = QTimer(self)\n",
    "        timer.start(1000)\n",
    "        timer.timeout.connect(self.timeout)\n",
    "        \n",
    "    def get_marker_infos(self, ticker):\n",
    "        df = pybithumb.get_ohlcv(ticker)            # get_ohlcv() 해당 코인의 다양한 정보를 가져온다.\n",
    "        ma5 = df['close'].rolling(window=5).mean()  # 종가들을 5일씩 평균을 전부 계산\n",
    "        last_ma5 = ma5[-2]                          # 가장 최근 5일치의 평균만 추출\n",
    "        price = pybithumb.get_current_price(ticker) # 해당 코인의 현재가\n",
    "        \n",
    "        state = None\n",
    "        if price > last_ma5:\n",
    "            state = \"상승장\"\n",
    "        else:\n",
    "            state = \"하락장\"\n",
    "        return price, last_ma5, state\n",
    "\n",
    "    def timeout(self):\n",
    "        for i, ticker in enumerate(tickers):\n",
    "            item = QTableWidgetItem(ticker)\n",
    "            self.tableWidget.setItem(i, 0, item)\n",
    "            \n",
    "            price, last_ma5, state = self.get_marker_infos(ticker)\n",
    "            \n",
    "            self.tableWidget.setItem(i, 1, QTableWidgetItem(str(price)))\n",
    "            self.tableWidget.setItem(i, 2, QTableWidgetItem(str(last_ma5)))\n",
    "            self.tableWidget.setItem(i, 3, QTableWidgetItem(str(state)))\n",
    "\n",
    "        \n",
    "app = QApplication(sys.argv)                 # 파이썬은 원래 인터프리터 -> 한줄씩 실행후 창이 꺼져야 정상\n",
    "window = MyWindow()                          # 윈도우 클래스로 객체 생성\n",
    "window.show()                                # 생성한 객체를 통해 창을 보여주는 \n",
    "app.exec_()                                  # 윈도우 창이 열린 상태로 계속 대기 유지"
   ]
  }
 ],
 "metadata": {
  "interpreter": {
   "hash": "b3ba2566441a7c06988d0923437866b63cedc61552a5af99d1f4fb67d367b25f"
  },
  "kernelspec": {
   "display_name": "Python 3.9.7 ('base')",
   "language": "python",
   "name": "python3"
  },
  "language_info": {
   "codemirror_mode": {
    "name": "ipython",
    "version": 3
   },
   "file_extension": ".py",
   "mimetype": "text/x-python",
   "name": "python",
   "nbconvert_exporter": "python",
   "pygments_lexer": "ipython3",
   "version": "3.9.7"
  },
  "orig_nbformat": 4
 },
 "nbformat": 4,
 "nbformat_minor": 2
}
