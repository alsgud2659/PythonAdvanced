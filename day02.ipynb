{
 "cells": [
  {
   "cell_type": "code",
   "execution_count": 3,
   "metadata": {},
   "outputs": [],
   "source": [
    "import sys                    # 하드웨어 접근 모듈\n",
    "from PyQt5.QtWidgets import * # 파이큐티 관련 모듈\n",
    "from PyQt5 import uic         # ui 관련 모듈\n"
   ]
  },
  {
   "cell_type": "code",
   "execution_count": 3,
   "metadata": {},
   "outputs": [
    {
     "data": {
      "text/plain": [
       "0"
      ]
     },
     "execution_count": 3,
     "metadata": {},
     "output_type": "execute_result"
    }
   ],
   "source": [
    "# 그냥 창 열기\n",
    "\n",
    "form_class = uic.loadUiType(\"day02.ui\")[0]    # pyqt로 만든 폼 불러오기\n",
    "\n",
    "class MyWindow(QMainWindow, form_class):      # MyWindow 클래스를 상속받아서 작성\n",
    "    def __init__(self):                       # 생성자로 창 생성\n",
    "        super().__init__()                    # 부모의 생성자를 이용\n",
    "        self.setupUi(self)                    # UI 창 생성\n",
    "        \n",
    "app = QApplication(sys.argv)                  # 파이썬은 원래 인터프리터 -> 한줄씩 실행 후 창이 꺼져야 정상\n",
    "window = MyWindow()                           # 윈도우 크랠스로 객체 생성\n",
    "window.show()                                 # 생성한 객체를 통해 창을 보여준다\n",
    "app.exec_()                                   # 윈도우 창이 열린 상태로 계속 대기 유지"
   ]
  },
  {
   "cell_type": "code",
   "execution_count": 2,
   "metadata": {},
   "outputs": [
    {
     "name": "stdout",
     "output_type": "stream",
     "text": [
      "clicked\n",
      "clicked\n",
      "clicked\n"
     ]
    },
    {
     "data": {
      "text/plain": [
       "0"
      ]
     },
     "execution_count": 2,
     "metadata": {},
     "output_type": "execute_result"
    }
   ],
   "source": [
    "# 버튼이 동작하는 창\n",
    "\n",
    "form_class = uic.loadUiType(\"day02.ui\")[0]    # pyqt로 만든 폼 불러오기\n",
    "\n",
    "class MyWindow(QMainWindow, form_class):      # MyWindow 클래스를 상속받아서 작성\n",
    "    def __init__(self):                       # 생성자로 창 생성\n",
    "        super().__init__()                    # 부모의 생성자를 이용\n",
    "        self.setupUi(self)                    # UI 창 생성\n",
    "        self.pushButton.clicked.connect(self.bnt_clicked)   # 단추 클릭시 연결되는 메서드 정의\n",
    "        \n",
    "    def bnt_clicked(self):\n",
    "        print(\"clicked\")\n",
    "        \n",
    "app = QApplication(sys.argv)                  # 파이썬은 원래 인터프리터 -> 한줄씩 실행 후 창이 꺼져야 정상\n",
    "window = MyWindow()                           # 윈도우 크랠스로 객체 생성\n",
    "window.show()                                 # 생성한 객체를 통해 창을 보여준다\n",
    "app.exec_()                                   # 윈도우 창이 열린 상태로 계속 대기 유지"
   ]
  }
 ],
 "metadata": {
  "interpreter": {
   "hash": "b3ba2566441a7c06988d0923437866b63cedc61552a5af99d1f4fb67d367b25f"
  },
  "kernelspec": {
   "display_name": "Python 3.9.7 ('base')",
   "language": "python",
   "name": "python3"
  },
  "language_info": {
   "codemirror_mode": {
    "name": "ipython",
    "version": 3
   },
   "file_extension": ".py",
   "mimetype": "text/x-python",
   "name": "python",
   "nbconvert_exporter": "python",
   "pygments_lexer": "ipython3",
   "version": "3.9.7"
  },
  "orig_nbformat": 4
 },
 "nbformat": 4,
 "nbformat_minor": 2
}
