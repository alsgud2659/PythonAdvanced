{
 "cells": [
  {
   "cell_type": "code",
   "execution_count": 1,
   "metadata": {},
   "outputs": [
    {
     "name": "stdout",
     "output_type": "stream",
     "text": [
      "[['Bugs', 1, '봄여름가을겨울 (Still Life)', 'BIGBANG (빅뱅)'], ['Bugs', 2, 'That That (prod. & feat. SUGA of BTS)', '싸이 (PSY)'], ['Bugs', 3, 'LOVE DIVE', 'IVE (아이브)'], ['Bugs', 4, '초대', '멜로망스(MeloMance)'], ['Bugs', 5, 'TOMBOY', '(여자)아이들'], ['Bugs', 6, 'Feel My Rhythm', 'Red Velvet (레드벨벳)'], ['Bugs', 7, '꽃 길', 'BIGBANG (빅뱅)'], ['Bugs', 8, '사랑인가 봐', '멜로망스(MeloMance)'], ['Bugs', 9, 'ZOOM', '제시(Jessi)'], ['Bugs', 10, 'LAST DANCE', 'BIGBANG (빅뱅)'], ['Bugs', 11, 'FEARLESS', 'LE SSERAFIM (르세라핌)'], ['Bugs', 12, '에라 모르겠다', 'BIGBANG (빅뱅)'], ['Bugs', 13, 'Celeb', '싸이 (PSY)'], ['Bugs', 14, '뱅뱅뱅 (BANG BANG BANG)', 'BIGBANG (빅뱅)'], ['Bugs', 15, '감동이야 (feat. 성시경)', '싸이 (PSY)'], ['Bugs', 16, 'Seoul', '볼빨간사춘기'], ['Bugs', 17, 'LOVE me', \"BE'O (비오)\"], ['Bugs', 18, '봄 to 러브', '10CM'], ['Bugs', 19, 'GANADARA (Feat. 아이유)', '박재범'], ['Bugs', 20, \"That's Hilarious\", 'Charlie Puth(찰리 푸스)'], ['Bugs', 21, '우리들의 블루스', '임영웅'], ['Bugs', 22, 'Drive', '미연 ((여자)아이들)'], ['Bugs', 23, 'Love story', '볼빨간사춘기'], ['Bugs', 24, '다시 만날 수 있을까', '임영웅'], ['Bugs', 25, '썸 2 (Feat. 정용화)', '소유 (SOYOU)'], ['Bugs', 26, '신호등', '이무진'], ['Bugs', 27, 'MY BAG', '(여자)아이들'], ['Bugs', 28, \"All 4 Nothing (I'm So In Love)\", 'Lauv(라우브)'], ['Bugs', 29, '나의 X에게', '경서'], ['Bugs', 30, 'INVU', '태연 (TAEYEON)'], ['Bugs', 31, '듣고 싶을까', 'MSG워너비(M.O.M)'], ['Bugs', 32, '마지막 너의 인사', '헤이즈(Heize)'], ['Bugs', 33, 'ELEVEN', 'IVE (아이브)'], ['Bugs', 34, '다정히 내 이름을 부르면', '경서예지\\n\\n\\r\\n경서예지'], ['Bugs', 35, 'Dynamite', '방탄소년단'], ['Bugs', 36, '드라마', '아이유(IU)'], ['Bugs', 37, 'As It Was', 'Harry Styles(해리 스타일스)'], ['Bugs', 38, 'STAY', 'The Kid LAROI\\n\\n\\r\\nThe Kid LAROI'], ['Bugs', 39, '취중고백', '김민석 (멜로망스)'], ['Bugs', 40, 'Next Level', 'aespa'], ['Bugs', 41, '밤이 깊었네 (feat. 헤이즈)', '싸이 (PSY)'], ['Bugs', 42, 'Real Love', '오마이걸(OH MY GIRL)'], ['Bugs', 43, '정이라고 하자 (Feat. 10CM)', 'BIG Naughty (서동현)'], ['Bugs', 44, 'Whisky on the Rock', '김연지'], ['Bugs', 45, '이제는 (feat. 화사)', '싸이 (PSY)'], ['Bugs', 46, 'RUN2U', 'STAYC(스테이씨)'], ['Bugs', 47, 'SMILEY (Feat. BIBI)', 'YENA (최예나)'], ['Bugs', 48, '라일락', '아이유(IU)'], ['Bugs', 49, '2step (feat. Lil Baby)', 'Ed Sheeran(에드 시런)'], ['Bugs', 50, 'Off My Face', 'Justin Bieber(저스틴 비버)'], ['Bugs', 51, '존재만으로', '원슈타인'], ['Bugs', 52, '너라는 이유 (BUT YOU)', 'iKON'], ['Bugs', 53, 'Dreams Come True', 'aespa'], ['Bugs', 54, 'strawberry moon', '아이유(IU)'], ['Bugs', 55, '사건의 지평선', '윤하(Younha/ユンナ)'], ['Bugs', 56, 'Butter', '방탄소년단'], ['Bugs', 57, '너의 번호를 누르고', '김나영'], ['Bugs', 58, 'Light Switch', 'Charlie Puth(찰리 푸스)'], ['Bugs', 59, '우린 어떠한 별보다 빛날 거야', '이하이'], ['Bugs', 60, 'With you', '지민\\n\\n\\r\\n지민'], ['Bugs', 61, 'O.O', 'NMIXX'], ['Bugs', 62, 'Permission to Dance', '방탄소년단'], ['Bugs', 63, '어제처럼', '폴킴(Paul Kim)'], ['Bugs', 64, 'Weekend', '태연 (TAEYEON)'], ['Bugs', 65, 'Blueming', '아이유(IU)'], ['Bugs', 66, '바라만 본다', 'MSG워너비(M.O.M)'], ['Bugs', 67, 'Starlight', '태일 (TAEIL)'], ['Bugs', 68, '회전목마 (Feat. Zion.T, 원슈타인) (Prod. Slom)', 'sokodomo'], ['Bugs', 69, 'Celebrity', '아이유(IU)'], ['Bugs', 70, 'Bad Habits', 'Ed Sheeran(에드 시런)'], ['Bugs', 71, \"Stronger (What Doesn't Kill You)\", 'Kelly Clarkson(켈리 클락슨)'], ['Bugs', 72, '너를 생각해', '주시크 (Joosiq)'], ['Bugs', 73, '스물다섯, 스물하나', '자우림(Jaurim)'], ['Bugs', 74, '사랑은 늘 도망가', '임영웅'], ['Bugs', 75, '문득', \"BE'O (비오)\"], ['Bugs', 76, 'Savage', 'aespa'], ['Bugs', 77, '사랑인가 봐 (Acoustic Ver.)', '김세정'], ['Bugs', 78, 'GANJI (feat. Jessi)', '싸이 (PSY)'], ['Bugs', 79, 'Counting Stars (Feat. Beenzino)', \"BE'O (비오)\"], ['Bugs', 80, 'Step Back', 'GOT the beat'], ['Bugs', 81, '나의 월요일', '싸이 (PSY)'], ['Bugs', 82, '버퍼링 (Glitch Mode)', 'NCT DREAM'], ['Bugs', 83, '손이 참 곱던 그대', '임영웅'], ['Bugs', 84, 'Happier (feat. Crush)', '싸이 (PSY)'], ['Bugs', 85, '나는 트로트가 싫어요', '임창정'], ['Bugs', 86, '언제나 사랑해', '케이시'], ['Bugs', 87, 'My Universe', 'Coldplay(콜드플레이)\\n\\n\\r\\nColdplay(콜드플레이)'], ['Bugs', 88, '모든 날, 모든 순간 (Every day, Every Moment)', '폴킴(Paul Kim)'], ['Bugs', 89, '9INTRO', '싸이 (PSY)'], ['Bugs', 90, '무지개', '임영웅'], ['Bugs', 91, '흔들리는 꽃들 속에서 네 샴푸향이 느껴진거야', '장범준'], ['Bugs', 92, '너랑', '멜로망스(MeloMance)'], ['Bugs', 93, 'LOVE', '몬스타엑스(Monsta X)'], ['Bugs', 94, '내일의 나에게', '싸이 (PSY)'], ['Bugs', 95, '서랍', '10CM'], ['Bugs', 96, '[19금]\\nabcdefu', 'GAYLE'], ['Bugs', 97, '사랑해 진짜', '임영웅'], ['Bugs', 98, '너의 모든 순간', '성시경'], ['Bugs', 99, 'Because Of You', 'Ne-Yo(니요)'], ['Bugs', 100, 'Believer', 'Imagine Dragons(이매진 드래곤스)']]\n"
     ]
    }
   ],
   "source": [
    "import requests                     # 웹 페이지 연결 모듈\n",
    "import pandas as pd                 # 데이터 분석 모듈\n",
    "from bs4 import BeautifulSoup as bs # 읽어온 페이지 소스 분석을 위한 정제 모듈\n",
    "\n",
    "html = requests.get('https://music.bugs.co.kr/chart')   # 분석할 웹페이지\n",
    "soup = bs(html.text, features=\"lxml\")\n",
    "\n",
    "len(soup.select('tr'))   # 태그를 모두 선택 할때는 select 을 사용한다. 전부를 선택하게된다.\n",
    "\n",
    "len(soup.select('tbody > tr'))  # tbody 안에 들어가 있는 tr들만 검출\n",
    "\n",
    "len(soup.select('table.byChart > tbody > tr'))  # tbody 안에 들어가 있는 tr들만 검출\n",
    "\n",
    "songs = soup.select('table.byChart > tbody > tr')\n",
    "song = songs[0]\n",
    "\n",
    "\n",
    "songs[0].select('p.artist')\n",
    "\n",
    "songs[0].select('p.artist')[0].text\n",
    "\n",
    "songs[0].select('p.title')\n",
    "\n",
    "songs[0].select('p.title')[0].text\n",
    "\n",
    "song_data = []\n",
    "rank = 1\n",
    "\n",
    "songs = soup.select('table.byChart > tbody > tr')\n",
    "\n",
    "for song in songs:\n",
    "  title = song.select('p.title')[0].text.strip()\n",
    "  singer = song.select('p.artist')[0].text.strip()\n",
    "  song_data.append(['Bugs',rank, title, singer])\n",
    "  rank += 1\n",
    "\n",
    "print(song_data)\n"
   ]
  }
 ],
 "metadata": {
  "interpreter": {
   "hash": "b3ba2566441a7c06988d0923437866b63cedc61552a5af99d1f4fb67d367b25f"
  },
  "kernelspec": {
   "display_name": "Python 3.9.7 ('base')",
   "language": "python",
   "name": "python3"
  },
  "language_info": {
   "codemirror_mode": {
    "name": "ipython",
    "version": 3
   },
   "file_extension": ".py",
   "mimetype": "text/x-python",
   "name": "python",
   "nbconvert_exporter": "python",
   "pygments_lexer": "ipython3",
   "version": "3.9.7"
  },
  "orig_nbformat": 4
 },
 "nbformat": 4,
 "nbformat_minor": 2
}
